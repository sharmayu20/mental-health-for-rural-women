{
 "cells": [
  {
   "cell_type": "code",
   "execution_count": 31,
   "metadata": {},
   "outputs": [],
   "source": [
    "import json\n",
    "import requests\n",
    "import pymongo\n",
    "from pymongo import MongoClient\n",
    "import pickle\n",
    "from flask import Flask, jsonify,request\n",
    "from flask_cors import CORS;\n",
    "from flask import json"
   ]
  },
  {
   "cell_type": "code",
   "execution_count": 32,
   "metadata": {},
   "outputs": [],
   "source": [
    "\n",
    "def initilaizeClient():\n",
    "    global client\n",
    "    client=MongoClient('localhost',27017)\n",
    "    global db\n",
    "    db=client['Binary-beast']\n",
    "\n",
    "\n",
    "def fetchUsers():\n",
    "    x=list(db.users.find({}))\n",
    "    print(x)\n",
    "    return pd.DataFrame(client['Binary-beast'].users.find({}))\n",
    "\n",
    "def fetchTest(p_id):\n",
    "    return pd.DataFrame(db.tests.find({'p_id':int(p_id)}))\n",
    "\n",
    "def postTestData(data):\n",
    "    #loading the model for prediction\n",
    "    model = pickle.load(open('DSSModel.pkl','rb'))\n",
    "    #Predict function here\n",
    "    data['consultation_recommended']=True\n",
    "    return db.tests.insert(data)\n",
    "    \n",
    "def fetchTestQuestions(test_id):\n",
    "    return pd.DataFrame(db.test_questions.find({\"test_id\":int(test_id)}))  \n",
    "\n",
    "def registerUser(data):\n",
    "    db.users.insert(data)"
   ]
  },
  {
   "cell_type": "code",
   "execution_count": 33,
   "metadata": {},
   "outputs": [
    {
     "name": "stdout",
     "output_type": "stream",
     "text": [
      " * Serving Flask app \"__main__\" (lazy loading)\n",
      " * Environment: production\n",
      "   WARNING: This is a development server. Do not use it in a production deployment.\n",
      "   Use a production WSGI server instead.\n",
      " * Debug mode: off\n"
     ]
    },
    {
     "name": "stderr",
     "output_type": "stream",
     "text": [
      " * Running on http://127.0.0.1:5000/ (Press CTRL+C to quit)\n"
     ]
    }
   ],
   "source": [
    "#API'S for the frontend\n",
    "\n",
    "app = Flask(__name__)\n",
    "\n",
    "# api=Api(app)\n",
    "CORS(app)\n",
    "initilaizeClient()\n",
    "\n",
    "\n",
    "@app.route(\"/getUsers\",methods=['GET'])\n",
    "def getUsers():\n",
    "    #Get all customers from the db\n",
    "    df1=fetchUsers()   \n",
    "    if '_id' in df1.columns:\n",
    "        del df1['_id']\n",
    "  \n",
    "    return df1.to_json(orient ='records')\n",
    "\n",
    "@app.route(\"/getPastTest\",methods=['GET','POST'])\n",
    "def getTest():\n",
    "    response=request.json\n",
    "    print(response)\n",
    "    past_tests=fetchTest(response['p_id'])\n",
    "    \n",
    "    if '_id' in past_tests.columns:\n",
    "        del past_tests['_id']\n",
    "    \n",
    "    return past_tests.to_json(orient ='records')\n",
    "\n",
    "@app.route(\"/postTest\",methods=['GET','POST'])\n",
    "def postTestRow():\n",
    "    #p_id,test_id,q1..q20, calculate consultation_recommended\n",
    "    response=request.json\n",
    "    test_results=postTestData(response)\n",
    "    \n",
    "    response = app.response_class(\n",
    "        response=json.dumps(\"Saved\"),\n",
    "        status=200,\n",
    "        mimetype='application/json'\n",
    "    )\n",
    "    \n",
    "    return response\n",
    "\n",
    "@app.route(\"/registerUsers\",methods=['GET','POST'])\n",
    "def registerUsers():\n",
    "    response=request.json\n",
    "    registerUsers(response)\n",
    "    \n",
    "    response = app.response_class(\n",
    "        response=json.dumps(\"Saved\"),\n",
    "        status=200,\n",
    "        mimetype='application/json'\n",
    "    )\n",
    "    \n",
    "    return response\n",
    "\n",
    "@app.route(\"/getTestQuestions\",methods=['GET','POST'])\n",
    "def getTestQuestions():\n",
    "    response=request.json\n",
    "    print(response)\n",
    "    test_questions=fetchTestQuestions(response['test_id'])\n",
    "    \n",
    "    if '_id' in test_questions.columns:\n",
    "        del test_questions['_id']\n",
    "    \n",
    "    return test_questions.to_json(orient ='records')\n",
    "     \n",
    "\n",
    "if __name__ == '__main__':\n",
    "    app.run()"
   ]
  }
 ],
 "metadata": {
  "kernelspec": {
   "display_name": "Python 3",
   "language": "python",
   "name": "python3"
  },
  "language_info": {
   "codemirror_mode": {
    "name": "ipython",
    "version": 3
   },
   "file_extension": ".py",
   "mimetype": "text/x-python",
   "name": "python",
   "nbconvert_exporter": "python",
   "pygments_lexer": "ipython3",
   "version": "3.7.6"
  }
 },
 "nbformat": 4,
 "nbformat_minor": 4
}
